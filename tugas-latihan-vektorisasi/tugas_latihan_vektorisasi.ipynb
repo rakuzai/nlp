{
  "nbformat": 4,
  "nbformat_minor": 0,
  "metadata": {
    "colab": {
      "provenance": []
    },
    "kernelspec": {
      "name": "python3",
      "display_name": "Python 3"
    },
    "language_info": {
      "name": "python"
    }
  },
  "cells": [
    {
      "cell_type": "markdown",
      "source": [
        "Import package"
      ],
      "metadata": {
        "id": "Zj0fwxNKL28E"
      }
    },
    {
      "cell_type": "code",
      "execution_count": 30,
      "metadata": {
        "id": "ApbL3KaUFmC_"
      },
      "outputs": [],
      "source": [
        "from gensim.models import Word2Vec\n",
        "from sklearn.manifold import TSNE\n",
        "import matplotlib.pyplot as plt\n",
        "import numpy as np\n",
        "import re\n",
        "import nltk"
      ]
    },
    {
      "cell_type": "markdown",
      "source": [
        "Raw Data"
      ],
      "metadata": {
        "id": "qUiKQrtPL6wD"
      }
    },
    {
      "cell_type": "code",
      "source": [
        "text = [\n",
        "    'Ada motor ada sepeda .',\n",
        "    'Semuanya beroda dua .',\n",
        "    'Indonesia kaya budaya .',\n",
        "    'Sepatutnya kita menjaganya Ada pisang ada semangka .',\n",
        "    'Jika dimakan manis rasanya .',\n",
        "    'Indonesia ragam budaya .',\n",
        "    'Tugas kita tuk menjaganya Ada rusa ada buaya .',\n",
        "    'Sungguh hitam warna matanya .',\n",
        "    'Ada adat seribu bahasa .',\n",
        "    'Kita wajib menghormatinya Alat timbang pucuknya patah .'\n",
        "]\n"
      ],
      "metadata": {
        "id": "ZaV6ziZ5F4Uy"
      },
      "execution_count": 22,
      "outputs": []
    },
    {
      "cell_type": "markdown",
      "source": [
        "function to transfor raw data to corpus structure and remove unnecessary characters"
      ],
      "metadata": {
        "id": "Fe90pdbML-NM"
      }
    },
    {
      "cell_type": "code",
      "source": [
        "def transform_to_corpus(string_list):\n",
        "    corpus = []\n",
        "    for string in string_list:\n",
        "        words = re.findall(r'\\b\\w+\\b', string)\n",
        "        if words:\n",
        "            corpus.append(words)\n",
        "    return corpus\n",
        "\n",
        "corpus = transform_to_corpus(text)\n",
        "\n",
        "print(corpus)"
      ],
      "metadata": {
        "colab": {
          "base_uri": "https://localhost:8080/"
        },
        "id": "yhghqHLIGK_p",
        "outputId": "beb8e156-e566-4f9e-97cd-3fec05c84194"
      },
      "execution_count": 23,
      "outputs": [
        {
          "output_type": "stream",
          "name": "stdout",
          "text": [
            "[['Ada', 'motor', 'ada', 'sepeda'], ['Semuanya', 'beroda', 'dua'], ['Indonesia', 'kaya', 'budaya'], ['Sepatutnya', 'kita', 'menjaganya', 'Ada', 'pisang', 'ada', 'semangka'], ['Jika', 'dimakan', 'manis', 'rasanya'], ['Indonesia', 'ragam', 'budaya'], ['Tugas', 'kita', 'tuk', 'menjaganya', 'Ada', 'rusa', 'ada', 'buaya'], ['Sungguh', 'hitam', 'warna', 'matanya'], ['Ada', 'adat', 'seribu', 'bahasa'], ['Kita', 'wajib', 'menghormatinya', 'Alat', 'timbang', 'pucuknya', 'patah']]\n"
          ]
        }
      ]
    },
    {
      "cell_type": "markdown",
      "source": [
        "lowering every tokens"
      ],
      "metadata": {
        "id": "ySDZzm11MO20"
      }
    },
    {
      "cell_type": "code",
      "source": [
        "corpus = [[word.lower() for word in sublist] for sublist in corpus]\n",
        "corpus"
      ],
      "metadata": {
        "colab": {
          "base_uri": "https://localhost:8080/"
        },
        "id": "aRKJUtKYIElq",
        "outputId": "cb80f3e6-f160-4514-909b-50d772dc1fe0"
      },
      "execution_count": 28,
      "outputs": [
        {
          "output_type": "execute_result",
          "data": {
            "text/plain": [
              "[['ada', 'motor', 'ada', 'sepeda'],\n",
              " ['semuanya', 'beroda', 'dua'],\n",
              " ['indonesia', 'kaya', 'budaya'],\n",
              " ['sepatutnya', 'kita', 'menjaganya', 'ada', 'pisang', 'ada', 'semangka'],\n",
              " ['jika', 'dimakan', 'manis', 'rasanya'],\n",
              " ['indonesia', 'ragam', 'budaya'],\n",
              " ['tugas', 'kita', 'tuk', 'menjaganya', 'ada', 'rusa', 'ada', 'buaya'],\n",
              " ['sungguh', 'hitam', 'warna', 'matanya'],\n",
              " ['ada', 'adat', 'seribu', 'bahasa'],\n",
              " ['kita', 'wajib', 'menghormatinya', 'alat', 'timbang', 'pucuknya', 'patah']]"
            ]
          },
          "metadata": {},
          "execution_count": 28
        }
      ]
    },
    {
      "cell_type": "code",
      "source": [
        "!pip install sastrawi"
      ],
      "metadata": {
        "colab": {
          "base_uri": "https://localhost:8080/"
        },
        "id": "0r1aZgNyJ1zE",
        "outputId": "414685c5-7bd6-457f-dda9-ae4295a4c060"
      },
      "execution_count": 35,
      "outputs": [
        {
          "output_type": "stream",
          "name": "stdout",
          "text": [
            "Collecting sastrawi\n",
            "  Downloading Sastrawi-1.0.1-py2.py3-none-any.whl (209 kB)\n",
            "\u001b[?25l     \u001b[90m━━━━━━━━━━━━━━━━━━━━━━━━━━━━━━━━━━━━━━━━\u001b[0m \u001b[32m0.0/209.7 kB\u001b[0m \u001b[31m?\u001b[0m eta \u001b[36m-:--:--\u001b[0m\r\u001b[2K     \u001b[91m━━━━━━━━━━━━━━━\u001b[0m\u001b[91m╸\u001b[0m\u001b[90m━━━━━━━━━━━━━━━━━━━━━━━━\u001b[0m \u001b[32m81.9/209.7 kB\u001b[0m \u001b[31m2.5 MB/s\u001b[0m eta \u001b[36m0:00:01\u001b[0m\r\u001b[2K     \u001b[90m━━━━━━━━━━━━━━━━━━━━━━━━━━━━━━━━━━━━━━━━\u001b[0m \u001b[32m209.7/209.7 kB\u001b[0m \u001b[31m3.9 MB/s\u001b[0m eta \u001b[36m0:00:00\u001b[0m\n",
            "\u001b[?25hInstalling collected packages: sastrawi\n",
            "Successfully installed sastrawi-1.0.1\n"
          ]
        }
      ]
    },
    {
      "cell_type": "markdown",
      "source": [
        "stopword removing"
      ],
      "metadata": {
        "id": "unmDSsNMMTU8"
      }
    },
    {
      "cell_type": "code",
      "source": [
        "from Sastrawi.StopWordRemover.StopWordRemoverFactory import StopWordRemoverFactory\n",
        "\n",
        "def remove_stopword(words):\n",
        "    factory = StopWordRemoverFactory()\n",
        "    stopword_remover = factory.create_stop_word_remover()\n",
        "    processed_words = [stopword_remover.remove(word) for word in words]\n",
        "    return processed_words\n",
        "\n",
        "corpus = [remove_stopword(sublist) for sublist in corpus]\n",
        "corpus = [[word for word in sublist if word != ''] for sublist in corpus]\n",
        "corpus"
      ],
      "metadata": {
        "colab": {
          "base_uri": "https://localhost:8080/"
        },
        "id": "8uGTsBA2Jhvj",
        "outputId": "b7725cfa-bde6-4d51-874c-981efd607533"
      },
      "execution_count": 39,
      "outputs": [
        {
          "output_type": "execute_result",
          "data": {
            "text/plain": [
              "[['motor', 'sepeda'],\n",
              " ['semuanya', 'beroda'],\n",
              " ['indonesia', 'kaya', 'budaya'],\n",
              " ['sepatutnya', 'menjaganya', 'pisang', 'semangka'],\n",
              " ['dimakan', 'manis', 'rasanya'],\n",
              " ['indonesia', 'ragam', 'budaya'],\n",
              " ['tugas', 'tuk', 'menjaganya', 'rusa', 'buaya'],\n",
              " ['sungguh', 'hitam', 'warna', 'matanya'],\n",
              " ['adat', 'seribu', 'bahasa'],\n",
              " ['wajib', 'menghormatinya', 'alat', 'timbang', 'pucuknya', 'patah']]"
            ]
          },
          "metadata": {},
          "execution_count": 39
        }
      ]
    },
    {
      "cell_type": "code",
      "source": [
        "model_w2v = Word2Vec(sentences=corpus, vector_size=10, window=5, min_count=1, workers=4)"
      ],
      "metadata": {
        "id": "MWTNI4HrGUey"
      },
      "execution_count": 40,
      "outputs": []
    },
    {
      "cell_type": "code",
      "source": [
        "model_w2v"
      ],
      "metadata": {
        "colab": {
          "base_uri": "https://localhost:8080/"
        },
        "id": "T7ElRbdfG7Qb",
        "outputId": "ab22feb1-c8e4-4adb-93dc-d3b341aab48e"
      },
      "execution_count": 41,
      "outputs": [
        {
          "output_type": "execute_result",
          "data": {
            "text/plain": [
              "<gensim.models.word2vec.Word2Vec at 0x791aeed92860>"
            ]
          },
          "metadata": {},
          "execution_count": 41
        }
      ]
    },
    {
      "cell_type": "code",
      "source": [
        "words = list(model_w2v.wv.index_to_key)\n",
        "vector_W2V = [model_w2v.wv[word] for word in words]\n",
        "vector_W2V = np.array(vector_W2V)"
      ],
      "metadata": {
        "id": "_MvpxHjkHUCB"
      },
      "execution_count": 42,
      "outputs": []
    },
    {
      "cell_type": "code",
      "source": [
        "words"
      ],
      "metadata": {
        "colab": {
          "base_uri": "https://localhost:8080/"
        },
        "id": "-nsVqPD5HXUR",
        "outputId": "29c46dfb-f746-49ff-e1c2-0ec3f6b4d9cd"
      },
      "execution_count": 43,
      "outputs": [
        {
          "output_type": "execute_result",
          "data": {
            "text/plain": [
              "['indonesia',\n",
              " 'budaya',\n",
              " 'menjaganya',\n",
              " 'patah',\n",
              " 'pucuknya',\n",
              " 'sepeda',\n",
              " 'semuanya',\n",
              " 'beroda',\n",
              " 'kaya',\n",
              " 'sepatutnya',\n",
              " 'pisang',\n",
              " 'semangka',\n",
              " 'dimakan',\n",
              " 'manis',\n",
              " 'rasanya',\n",
              " 'ragam',\n",
              " 'tugas',\n",
              " 'tuk',\n",
              " 'rusa',\n",
              " 'buaya',\n",
              " 'sungguh',\n",
              " 'hitam',\n",
              " 'warna',\n",
              " 'matanya',\n",
              " 'adat',\n",
              " 'seribu',\n",
              " 'bahasa',\n",
              " 'wajib',\n",
              " 'menghormatinya',\n",
              " 'alat',\n",
              " 'timbang',\n",
              " 'motor']"
            ]
          },
          "metadata": {},
          "execution_count": 43
        }
      ]
    },
    {
      "cell_type": "code",
      "source": [
        "vector_W2V"
      ],
      "metadata": {
        "colab": {
          "base_uri": "https://localhost:8080/"
        },
        "id": "xaBUHw-vHcna",
        "outputId": "17057325-d2a6-4822-fc03-73bf5bb762c7"
      },
      "execution_count": 44,
      "outputs": [
        {
          "output_type": "execute_result",
          "data": {
            "text/plain": [
              "array([[-5.3622723e-03,  2.3643137e-03,  5.1033497e-02,  9.0092734e-02,\n",
              "        -9.3029499e-02, -7.1168087e-02,  6.4588726e-02,  8.9729883e-02,\n",
              "        -5.0154280e-02, -3.7633717e-02],\n",
              "       [ 7.3811889e-02, -1.5337008e-02, -4.5370121e-02,  6.5538444e-02,\n",
              "        -4.8594598e-02, -1.8146377e-02,  2.8773749e-02,  9.9300276e-03,\n",
              "        -8.2846411e-02, -9.4481066e-02],\n",
              "       [ 7.3108770e-02,  5.0705835e-02,  6.7583300e-02,  7.6220548e-03,\n",
              "         6.3515656e-02, -3.4050256e-02, -9.4667207e-03,  5.7681680e-02,\n",
              "        -7.5213328e-02, -3.9365184e-02],\n",
              "       [-7.5139269e-02, -9.2879673e-03,  9.5395081e-02, -7.3205486e-02,\n",
              "        -2.3334308e-02, -1.9386388e-02,  8.0790475e-02, -5.9307456e-02,\n",
              "         4.6071823e-04, -4.7555588e-02],\n",
              "       [-9.6064799e-02,  5.0077636e-02, -8.7604351e-02, -4.3930147e-02,\n",
              "        -3.5376460e-04, -2.9638361e-03, -7.6606788e-02,  9.6149452e-02,\n",
              "         4.9843643e-02,  9.2330448e-02],\n",
              "       [-8.1579171e-02,  4.4957984e-02, -4.1370761e-02,  8.2453610e-03,\n",
              "         8.4986195e-02, -4.4621766e-02,  4.5175005e-02, -6.7869604e-02,\n",
              "        -3.5484888e-02,  9.3985081e-02],\n",
              "       [-1.5776526e-02,  3.2137155e-03, -4.1406296e-02, -7.6826885e-02,\n",
              "        -1.5080082e-02,  2.4697948e-02, -8.8802697e-03,  5.5336617e-02,\n",
              "        -2.7429771e-02,  2.2600651e-02],\n",
              "       [ 5.4557942e-02,  8.3459534e-02, -1.4537406e-02, -9.2081428e-02,\n",
              "         4.3705523e-02,  5.7178498e-03,  7.4419081e-02, -8.1328275e-03,\n",
              "        -2.6384139e-02, -8.7530091e-02],\n",
              "       [-8.5655693e-03,  2.8265631e-02,  5.4014288e-02,  7.0526563e-02,\n",
              "        -5.7031214e-02,  1.8588196e-02,  6.0888637e-02, -4.7980510e-02,\n",
              "        -3.1072605e-02,  6.7976296e-02],\n",
              "       [ 1.6285028e-02,  1.9010045e-03,  3.4735166e-02,  2.1606658e-03,\n",
              "         9.6184924e-02,  5.0606437e-02, -8.9168005e-02, -7.0428133e-02,\n",
              "         9.0190908e-03,  6.3921556e-02],\n",
              "       [-8.6214647e-02,  3.6679622e-02,  5.1934008e-02,  5.7399530e-02,\n",
              "         7.4688211e-02, -6.1683673e-02,  1.1061167e-02,  6.0458269e-02,\n",
              "        -2.8383473e-02, -6.1759118e-02],\n",
              "       [-4.1434811e-03, -8.3656661e-02, -5.6023303e-02,  7.1024425e-02,\n",
              "         3.3540662e-02,  7.2253689e-02,  6.7989305e-02,  7.5328872e-02,\n",
              "        -3.7872717e-02, -5.6118029e-03],\n",
              "       [ 2.3483764e-02, -4.5190323e-02,  8.3887316e-02, -9.8581634e-02,\n",
              "         6.7646407e-02,  2.9144168e-02, -4.9328316e-02,  4.3981872e-02,\n",
              "        -1.7395746e-02,  6.7113839e-02],\n",
              "       [ 9.9632248e-02, -4.3614741e-02, -6.0088430e-03, -5.6959808e-02,\n",
              "         3.8519863e-02,  2.7871693e-02,  6.8935066e-02,  6.1021362e-02,\n",
              "         9.5400400e-02,  9.2723705e-02],\n",
              "       [ 7.8952201e-02, -6.9875017e-02, -9.1538496e-02, -3.5761492e-03,\n",
              "        -3.0980986e-02,  7.8932442e-02,  5.9390221e-02, -1.5468559e-02,\n",
              "         1.5121755e-02,  1.7889280e-02],\n",
              "       [ 7.8153983e-02, -9.5085151e-02, -2.0119576e-03,  3.4674626e-02,\n",
              "        -9.3822125e-03,  8.3815731e-02,  9.0118870e-02,  6.5341473e-02,\n",
              "        -7.1122078e-03,  7.7073753e-02],\n",
              "       [-8.5367478e-02,  3.2109294e-02, -4.6363100e-02, -5.0902382e-02,\n",
              "         3.5931025e-02,  5.3688984e-02,  7.7722222e-02, -5.7619996e-02,\n",
              "         7.4354939e-02,  6.6210404e-02],\n",
              "       [-3.7098002e-02, -8.7456420e-02,  5.4374672e-02,  6.5097556e-02,\n",
              "        -7.8755021e-03, -6.7098558e-02, -7.0859253e-02, -2.4970602e-02,\n",
              "         5.1432539e-02, -3.6652375e-02],\n",
              "       [-9.3762241e-02,  3.8303655e-02,  4.8852839e-02, -6.4312108e-02,\n",
              "         1.2110645e-02, -2.0781724e-02,  2.6249740e-04, -9.8815821e-02,\n",
              "         2.6946615e-02, -4.7539331e-02],\n",
              "       [ 1.0853406e-02, -1.5740477e-02,  2.1980159e-02, -7.8825101e-02,\n",
              "        -2.7154041e-02,  2.6626265e-02,  5.3493593e-02, -2.3890397e-02,\n",
              "        -9.5094837e-02,  4.5027666e-02],\n",
              "       [ 9.4563962e-04,  3.0773198e-02, -6.8126455e-02, -1.3754654e-02,\n",
              "         7.6685809e-02,  7.3464096e-02, -3.6732972e-02,  2.6427019e-02,\n",
              "        -8.3171293e-02,  6.2054861e-02],\n",
              "       [-4.6373226e-02, -3.1641066e-02,  9.3113564e-02,  8.7338565e-03,\n",
              "         7.4907027e-02, -6.0740627e-02,  5.1605068e-02,  9.9228226e-02,\n",
              "        -8.4573910e-02, -5.1356912e-02],\n",
              "       [-7.0648372e-02, -4.8626520e-02, -3.7785638e-02, -8.5361995e-02,\n",
              "         7.9556063e-02, -4.8439384e-02,  8.4236130e-02,  5.2625705e-02,\n",
              "        -6.5500259e-02,  3.9578713e-02],\n",
              "       [ 5.4701496e-02, -7.4265361e-02, -7.4057199e-02, -2.4752308e-02,\n",
              "        -8.6257257e-02, -1.5815724e-02, -4.0343283e-03,  3.2996845e-02,\n",
              "         1.4418805e-02, -8.8142157e-03],\n",
              "       [-5.5955928e-02,  1.7310917e-02, -8.9527573e-03,  6.7929462e-02,\n",
              "         3.9752740e-02,  4.5307260e-02,  1.4371152e-02, -2.6990561e-02,\n",
              "        -4.3662697e-02, -1.0340963e-02],\n",
              "       [ 1.4345550e-02, -2.6436534e-02, -7.0703827e-02, -7.8069404e-02,\n",
              "        -9.1200687e-02, -5.9355848e-02, -1.8456914e-02, -4.3239888e-02,\n",
              "        -6.4605311e-02, -3.7204187e-02],\n",
              "       [ 4.2891584e-02, -3.7390433e-02,  8.3781756e-02,  1.5339935e-02,\n",
              "        -7.2423197e-02,  9.4337985e-02,  7.6312125e-02,  5.4932822e-02,\n",
              "        -6.8488456e-02,  5.8226787e-02],\n",
              "       [ 4.0090490e-02,  5.1870957e-02,  4.2561661e-02,  1.9400541e-02,\n",
              "        -3.1695485e-02,  8.3524540e-02,  9.6124277e-02,  3.7943188e-02,\n",
              "        -2.8378844e-02,  5.7698500e-05],\n",
              "       [ 1.2182205e-02, -8.4571749e-02, -8.2236409e-02, -2.3088783e-03,\n",
              "         1.2375215e-02, -5.7440177e-02, -4.7240674e-02, -7.3443078e-02,\n",
              "         8.3287232e-02,  1.2005685e-03],\n",
              "       [-4.5101285e-02,  5.7053775e-02,  9.1849945e-02, -4.1023076e-02,\n",
              "         7.9686888e-02,  5.3744424e-02,  5.8799174e-02,  5.1289275e-03,\n",
              "         8.2129613e-02, -7.0225365e-02],\n",
              "       [-8.2483299e-02,  9.3039490e-02, -1.9073779e-03, -1.9723916e-02,\n",
              "         4.6075761e-02, -4.0943209e-02,  2.7475143e-02,  6.9373481e-02,\n",
              "         6.0700074e-02, -7.5157061e-02],\n",
              "       [ 9.3823507e-02,  4.6718083e-02,  3.9661206e-02, -6.2435053e-02,\n",
              "         8.4599793e-02, -2.1501649e-02,  8.8251874e-02, -5.3620029e-02,\n",
              "        -8.1294194e-02,  6.8245590e-02]], dtype=float32)"
            ]
          },
          "metadata": {},
          "execution_count": 44
        }
      ]
    },
    {
      "cell_type": "code",
      "source": [
        "tsne = TSNE(n_components=2, perplexity=min(5, len(vector_W2V)-1), random_state=42)\n",
        "vectors_tsne = tsne.fit_transform(vector_W2V)"
      ],
      "metadata": {
        "id": "OX2uz_FvHtJa"
      },
      "execution_count": 45,
      "outputs": []
    },
    {
      "cell_type": "code",
      "source": [
        "plt.scatter(vectors_tsne[:, 0], vectors_tsne[:, 1])\n",
        "for i, word in enumerate(words):\n",
        "    plt.annotate(word, xy=(vectors_tsne[i, 0], vectors_tsne[i, 1]), xytext=(5, 2), textcoords='offset points', ha='right')\n",
        "\n",
        "plt.show()"
      ],
      "metadata": {
        "colab": {
          "base_uri": "https://localhost:8080/",
          "height": 430
        },
        "id": "3Wm0mGCgHvgC",
        "outputId": "da739ca0-cf12-423f-ddb1-0f715e5f231f"
      },
      "execution_count": 46,
      "outputs": [
        {
          "output_type": "display_data",
          "data": {
            "text/plain": [
              "<Figure size 640x480 with 1 Axes>"
            ],
            "image/png": "[encoded data removed]"
          },
          "metadata": {}
        }
      ]
    },
    {
      "cell_type": "markdown",
      "source": [
        "Gensim Fasttext"
      ],
      "metadata": {
        "id": "O7yMgn85LNPz"
      }
    },
    {
      "cell_type": "code",
      "source": [
        "from gensim.models import FastText\n",
        "\n",
        "model_fasttext = FastText(sentences=corpus, vector_size=10, window=5, min_count=1, workers=4)"
      ],
      "metadata": {
        "id": "QKvDAH1ULPxD"
      },
      "execution_count": 47,
      "outputs": []
    },
    {
      "cell_type": "code",
      "source": [
        "words = list(model_fasttext.wv.index_to_key)\n",
        "vector_fasttext = [model_fasttext.wv[word] for word in words]\n",
        "vector_fasttext = np.array(vector_fasttext)"
      ],
      "metadata": {
        "id": "fapS-o3oLRTj"
      },
      "execution_count": 48,
      "outputs": []
    },
    {
      "cell_type": "code",
      "source": [
        "words"
      ],
      "metadata": {
        "colab": {
          "base_uri": "https://localhost:8080/"
        },
        "id": "KGjo2CcdLSmD",
        "outputId": "46710ad3-2512-4faf-d36a-19c6a1700ef6"
      },
      "execution_count": 49,
      "outputs": [
        {
          "output_type": "execute_result",
          "data": {
            "text/plain": [
              "['indonesia',\n",
              " 'budaya',\n",
              " 'menjaganya',\n",
              " 'patah',\n",
              " 'pucuknya',\n",
              " 'sepeda',\n",
              " 'semuanya',\n",
              " 'beroda',\n",
              " 'kaya',\n",
              " 'sepatutnya',\n",
              " 'pisang',\n",
              " 'semangka',\n",
              " 'dimakan',\n",
              " 'manis',\n",
              " 'rasanya',\n",
              " 'ragam',\n",
              " 'tugas',\n",
              " 'tuk',\n",
              " 'rusa',\n",
              " 'buaya',\n",
              " 'sungguh',\n",
              " 'hitam',\n",
              " 'warna',\n",
              " 'matanya',\n",
              " 'adat',\n",
              " 'seribu',\n",
              " 'bahasa',\n",
              " 'wajib',\n",
              " 'menghormatinya',\n",
              " 'alat',\n",
              " 'timbang',\n",
              " 'motor']"
            ]
          },
          "metadata": {},
          "execution_count": 49
        }
      ]
    },
    {
      "cell_type": "code",
      "source": [
        "vector_fasttext"
      ],
      "metadata": {
        "colab": {
          "base_uri": "https://localhost:8080/"
        },
        "id": "ILF2faXqLUWr",
        "outputId": "92980195-3ef9-49f7-e95f-e8bb24baadd9"
      },
      "execution_count": 50,
      "outputs": [
        {
          "output_type": "execute_result",
          "data": {
            "text/plain": [
              "array([[ 3.75491031e-03,  6.68148044e-03, -3.26956064e-03,\n",
              "         7.26378337e-03, -1.23696262e-02,  5.07123768e-03,\n",
              "        -1.04443892e-03,  1.73091944e-02,  6.13545207e-03,\n",
              "         1.10297231e-02],\n",
              "       [-7.86453660e-04,  6.46338472e-03,  2.03660633e-02,\n",
              "         1.96664780e-03, -1.16468500e-02, -7.74370201e-05,\n",
              "         2.30525099e-02,  1.27276620e-02, -2.69063357e-02,\n",
              "        -6.94657303e-03],\n",
              "       [-4.09018388e-03,  4.78945207e-03, -1.39824382e-03,\n",
              "         2.71424814e-03,  1.26748104e-02, -2.51462008e-03,\n",
              "         1.77281757e-03,  2.78817932e-03, -3.38350213e-03,\n",
              "         1.59839783e-02],\n",
              "       [-1.74517685e-03, -1.76750161e-02,  3.94510739e-02,\n",
              "        -3.29667293e-02, -8.66148341e-03,  8.10102560e-03,\n",
              "        -1.59994084e-02,  7.75639713e-03,  3.71994786e-02,\n",
              "         1.74252819e-02],\n",
              "       [ 6.39710948e-03, -1.10515272e-02, -4.40999307e-03,\n",
              "         1.39152529e-02,  3.25298309e-03, -1.02937198e-03,\n",
              "        -8.87214579e-03,  1.57666579e-02, -1.06565376e-05,\n",
              "        -1.15191080e-02],\n",
              "       [-8.06628074e-03,  1.42478803e-02,  3.93106276e-03,\n",
              "        -1.20624865e-03,  3.31604369e-02,  2.05424298e-02,\n",
              "        -1.73156541e-02, -9.33478028e-03, -4.11789119e-03,\n",
              "        -2.08675843e-02],\n",
              "       [-9.23538022e-03,  4.60724346e-03, -2.21803859e-02,\n",
              "         1.12199401e-02,  1.44548120e-03,  1.31347599e-02,\n",
              "        -4.00811527e-03,  1.42127518e-02, -6.22214982e-03,\n",
              "        -1.57007948e-03],\n",
              "       [ 1.05652632e-02,  1.74751785e-02,  4.78219101e-03,\n",
              "         1.63929984e-02,  1.14403842e-02, -2.47680885e-03,\n",
              "         2.06121765e-02, -9.25092772e-03,  1.79950446e-02,\n",
              "        -4.67939069e-03],\n",
              "       [-2.44859303e-03,  1.55142369e-02,  1.32938325e-02,\n",
              "         1.35359075e-02, -2.92717088e-02, -3.63330613e-03,\n",
              "         6.15356537e-03,  7.68199563e-03, -3.20670344e-02,\n",
              "         9.78805684e-03],\n",
              "       [ 8.65573005e-04,  5.13974996e-03,  4.47274324e-05,\n",
              "         8.00581370e-03,  1.31349647e-02,  6.08668989e-03,\n",
              "         1.45555547e-04, -1.69329774e-02,  1.19963372e-02,\n",
              "         1.13433441e-02],\n",
              "       [-8.46433803e-04,  9.22170933e-03, -6.31493330e-03,\n",
              "         2.85788365e-02, -2.14111689e-03, -6.95158553e-04,\n",
              "        -1.40026370e-02,  8.48411396e-03,  2.00367011e-02,\n",
              "        -9.13721335e-04],\n",
              "       [ 1.52354105e-03,  2.60283053e-03, -3.13664377e-02,\n",
              "         1.22393722e-05, -3.92848626e-04, -1.41808735e-02,\n",
              "         5.45031216e-04,  1.78558547e-02, -1.17180496e-03,\n",
              "        -7.73557369e-03],\n",
              "       [-8.50609504e-03,  1.37952445e-02,  3.93776083e-03,\n",
              "         1.39547791e-03, -1.82621162e-02, -1.22235576e-03,\n",
              "         9.35224909e-03,  1.25493100e-02, -3.10141733e-03,\n",
              "         9.11412295e-03],\n",
              "       [ 7.29321223e-03,  1.52053619e-02, -3.16746309e-02,\n",
              "        -1.34360697e-02, -2.73253154e-02,  5.58272982e-03,\n",
              "         1.12030068e-02,  2.95287464e-03,  1.92563590e-02,\n",
              "        -1.63601693e-02],\n",
              "       [-9.95185319e-03,  2.09305864e-02,  1.42387417e-03,\n",
              "        -1.19477548e-02, -2.44947878e-04,  9.05299094e-03,\n",
              "         2.67343726e-02, -8.23424663e-03, -8.81612650e-04,\n",
              "        -2.16187816e-03],\n",
              "       [ 1.93833299e-02,  1.76153204e-04,  2.31782496e-02,\n",
              "        -1.42728370e-02, -2.56148502e-02,  1.31477155e-02,\n",
              "         9.84620024e-03,  1.74733400e-02, -1.04383547e-02,\n",
              "         2.16369629e-02],\n",
              "       [ 1.69120706e-03,  4.43980144e-03,  1.77840274e-02,\n",
              "        -1.21811228e-02,  1.15670823e-02,  1.32363141e-02,\n",
              "         9.37733985e-03, -1.77175570e-02, -1.27707666e-03,\n",
              "        -2.42472254e-02],\n",
              "       [ 1.56244263e-02,  2.51234369e-03, -8.60059925e-04,\n",
              "         1.19715882e-02, -2.43620742e-02,  3.24487127e-02,\n",
              "        -3.25513408e-02, -1.22178746e-02, -3.29086441e-03,\n",
              "         4.58065514e-03],\n",
              "       [-3.73110245e-03,  7.71985250e-03,  2.25253534e-02,\n",
              "        -9.43599080e-05,  3.15493308e-02,  2.17622193e-03,\n",
              "        -1.12585807e-02, -2.00173389e-02,  1.92522276e-02,\n",
              "        -2.02816110e-02],\n",
              "       [ 1.79981336e-03,  2.29777321e-02,  2.30988562e-02,\n",
              "         6.26536785e-03, -1.91174578e-02, -9.68755875e-03,\n",
              "         6.86349254e-03,  7.53469067e-03,  1.74622983e-03,\n",
              "         3.54059215e-04],\n",
              "       [ 1.58088338e-02,  1.08229404e-03,  4.75065457e-03,\n",
              "        -1.72644835e-02,  1.14748636e-02,  3.78415949e-04,\n",
              "         9.25497152e-03,  1.46899875e-02,  4.12265025e-03,\n",
              "        -3.37465946e-03],\n",
              "       [-5.52272331e-03, -2.15952192e-02,  8.54738150e-03,\n",
              "         1.09715564e-02, -1.12958755e-02, -1.92911569e-02,\n",
              "         2.02096011e-02, -7.09531596e-03,  9.96163115e-03,\n",
              "        -2.43360586e-02],\n",
              "       [ 2.38108262e-02, -1.09917996e-02,  1.00562423e-02,\n",
              "        -2.53008469e-03,  9.97232553e-03, -6.69191172e-03,\n",
              "        -9.03767534e-03,  4.91995038e-03, -1.57368518e-02,\n",
              "        -2.66383216e-02],\n",
              "       [ 1.13673834e-02,  1.17238006e-02,  4.72036423e-03,\n",
              "        -5.59454644e-03, -8.19433201e-03,  7.84658827e-03,\n",
              "        -9.20583785e-04,  1.94444414e-03, -6.10757759e-03,\n",
              "         6.54161442e-03],\n",
              "       [-6.79442473e-03, -3.93404951e-03, -6.03151601e-03,\n",
              "         2.49444917e-02,  2.32531838e-02,  3.58350687e-02,\n",
              "         1.43156238e-02,  1.60621665e-03, -1.79970767e-02,\n",
              "         3.96902375e-02],\n",
              "       [ 1.01865465e-02, -8.00886191e-03,  4.77699330e-03,\n",
              "         8.76069255e-03,  2.45701056e-03, -1.55550463e-03,\n",
              "         4.18064243e-04, -1.31443061e-03, -3.47842947e-02,\n",
              "         4.87033790e-03],\n",
              "       [ 3.06527992e-03, -1.03328964e-02,  1.98327750e-02,\n",
              "        -1.70156155e-02,  4.21183789e-03,  1.93780032e-03,\n",
              "         1.86555963e-02,  8.78230575e-03, -1.58561883e-03,\n",
              "        -4.84731887e-03],\n",
              "       [-1.30310152e-02, -1.16174063e-02,  1.84341483e-02,\n",
              "        -9.23822925e-04, -5.55863045e-03, -1.27790747e-02,\n",
              "         2.92454171e-03,  1.06591275e-02, -2.71615125e-02,\n",
              "         1.04347290e-02],\n",
              "       [-6.84816716e-03,  1.25475423e-02, -1.17646912e-02,\n",
              "        -1.06686466e-05, -4.28984826e-03, -7.45867053e-03,\n",
              "        -5.37477713e-03, -8.21935944e-03, -4.99697076e-03,\n",
              "        -6.59446092e-03],\n",
              "       [ 1.10787211e-03, -1.28790643e-02, -1.51813244e-02,\n",
              "        -5.08413054e-02,  1.68438372e-03,  2.81090140e-02,\n",
              "         2.72259116e-04, -2.11373288e-02,  4.82362788e-03,\n",
              "        -1.26768984e-02],\n",
              "       [ 3.71691911e-03,  1.90380681e-02,  2.74989661e-03,\n",
              "        -2.95461947e-03,  9.95819829e-03, -2.15194211e-03,\n",
              "         3.39412577e-02, -5.87520842e-03,  1.36976251e-02,\n",
              "        -1.80704445e-02],\n",
              "       [ 1.28468508e-02,  8.89097434e-03,  5.64806629e-03,\n",
              "        -8.67674220e-03, -5.75646525e-03, -3.53128184e-03,\n",
              "        -1.10192141e-02, -2.08666548e-02, -2.40022596e-02,\n",
              "         2.45889314e-02]], dtype=float32)"
            ]
          },
          "metadata": {},
          "execution_count": 50
        }
      ]
    },
    {
      "cell_type": "code",
      "source": [
        "tsne = TSNE(n_components=2, perplexity=min(5, len(vector_fasttext)-1), random_state=42)\n",
        "vectors_tsne = tsne.fit_transform(vector_fasttext)"
      ],
      "metadata": {
        "id": "8q7kLKCyLV9L"
      },
      "execution_count": 51,
      "outputs": []
    },
    {
      "cell_type": "code",
      "source": [
        "plt.scatter(vectors_tsne[:, 0], vectors_tsne[:, 1])\n",
        "for i, word in enumerate(words):\n",
        "    plt.annotate(word, xy=(vectors_tsne[i, 0], vectors_tsne[i, 1]), xytext=(5, 2), textcoords='offset points', ha='right')\n",
        "\n",
        "plt.show()"
      ],
      "metadata": {
        "colab": {
          "base_uri": "https://localhost:8080/",
          "height": 430
        },
        "id": "eiZUK7PxLXmj",
        "outputId": "b899b0a5-ae1a-4e5b-d679-b9737c894560"
      },
      "execution_count": 52,
      "outputs": [
        {
          "output_type": "display_data",
          "data": {
            "text/plain": [
              "<Figure size 640x480 with 1 Axes>"
            ],
            "image/png": "[encoded data removed]"
          },
          "metadata": {}
        }
      ]
    },
    {
      "cell_type": "code",
      "source": [
        "# representasi kata motor\n",
        "word_w2v = model_w2v.wv['motor']\n",
        "word_fasttext = model_fasttext.wv['motor']\n",
        "\n",
        "print(\"Word2Vec:\", word_w2v)\n",
        "print(\"FastText:\", word_fasttext)"
      ],
      "metadata": {
        "colab": {
          "base_uri": "https://localhost:8080/"
        },
        "id": "dBC8Ded_LZXT",
        "outputId": "f05ce960-a2fc-4748-c396-ca0a7bb1fe1b"
      },
      "execution_count": 53,
      "outputs": [
        {
          "output_type": "stream",
          "name": "stdout",
          "text": [
            "Word2Vec: [ 0.09382351  0.04671808  0.03966121 -0.06243505  0.08459979 -0.02150165\n",
            "  0.08825187 -0.05362003 -0.08129419  0.06824559]\n",
            "FastText: [ 0.01284685  0.00889097  0.00564807 -0.00867674 -0.00575647 -0.00353128\n",
            " -0.01101921 -0.02086665 -0.02400226  0.02458893]\n"
          ]
        }
      ]
    },
    {
      "cell_type": "code",
      "source": [
        "# Gunakan model Word2Vec atau FastText yang telah dilatih\n",
        "similar_words_w2v = model_w2v.wv.most_similar('sepeda', topn=4)\n",
        "similar_words_fasttext = model_fasttext.wv.most_similar('sepeda', topn=4)\n",
        "\n",
        "print(f\"Word2Vec - Kata serupa dengan 'sepeda':{similar_words_w2v}\")\n",
        "print(f\"FastText - Kata serupa dengan 'sepeda':{similar_words_fasttext}\")"
      ],
      "metadata": {
        "colab": {
          "base_uri": "https://localhost:8080/"
        },
        "id": "iNgwiD22Ld3j",
        "outputId": "ec4a20dd-1c08-471c-a616-63de0bb44776"
      },
      "execution_count": 55,
      "outputs": [
        {
          "output_type": "stream",
          "name": "stdout",
          "text": [
            "Word2Vec - Kata serupa dengan 'hitam':[('tugas', 0.5916513800621033), ('warna', 0.5115841627120972), ('adat', 0.4619218111038208), ('motor', 0.4242832064628601)]\n",
            "FastText - Kata serupa dengan 'hitam':[('rusa', 0.739611029624939), ('tugas', 0.5995570421218872), ('sepatutnya', 0.322677344083786), ('warna', 0.2686302363872528)]\n"
          ]
        }
      ]
    },
    {
      "cell_type": "markdown",
      "source": [
        "berdasarkan hasil model w2vec dan fasttext yang telah dilatih, dirasa kedua model tersebut belum melakukan kinerja yang baik. hal tersebut dikarenakan saat melakukan pencarian kata yang mirip masih terdapat beberapa kata yang tidak relevan. hal ini dapat terjadi karena data yang kita latih masih sangat sedikit sehingga akurasi prediksi dari model model tersebut masih kurang baik.  "
      ],
      "metadata": {
        "id": "NHl7gLF_MbLE"
      }
    },
    {
      "cell_type": "markdown",
      "source": [
        "tetapi jika ingin dilakukan komparasi dari kedua model tersebut, akurasi dari model word2vec lebih baik daripada fasttext. setelah dilakukan percobaan pencarian kata yang mirip dengan kata 'sepeda', model word2vec memberikan 1 output kata yang relevan yaitu 'motor'. sedangkan model fasttext tidak memberikan satupun output yang relevan."
      ],
      "metadata": {
        "id": "PPYIsT7ZNN4U"
      }
    },
    {
      "cell_type": "code",
      "source": [],
      "metadata": {
        "id": "wcnimTVZNlY0"
      },
      "execution_count": null,
      "outputs": []
    }
  ]
}
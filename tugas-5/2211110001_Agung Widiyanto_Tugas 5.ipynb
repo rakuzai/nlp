{
  "cells": [
    {
      "cell_type": "code",
      "execution_count": 17,
      "metadata": {},
      "outputs": [],
      "source": [
        "import pandas as pd\n",
        "import re"
      ]
    },
    {
      "cell_type": "code",
      "execution_count": 18,
      "id": "rjy006Fhi5ao",
      "metadata": {
        "colab": {
          "base_uri": "https://localhost:8080/",
          "height": 356
        },
        "id": "rjy006Fhi5ao",
        "outputId": "becf8fee-c6f1-44fb-b46e-e87ad8ce2d19"
      },
      "outputs": [
        {
          "data": {
            "text/html": [
              "<div>\n",
              "<style scoped>\n",
              "    .dataframe tbody tr th:only-of-type {\n",
              "        vertical-align: middle;\n",
              "    }\n",
              "\n",
              "    .dataframe tbody tr th {\n",
              "        vertical-align: top;\n",
              "    }\n",
              "\n",
              "    .dataframe thead th {\n",
              "        text-align: right;\n",
              "    }\n",
              "</style>\n",
              "<table border=\"1\" class=\"dataframe\">\n",
              "  <thead>\n",
              "    <tr style=\"text-align: right;\">\n",
              "      <th></th>\n",
              "      <th>Unnamed: 0</th>\n",
              "      <th>userName</th>\n",
              "      <th>content</th>\n",
              "      <th>score</th>\n",
              "    </tr>\n",
              "  </thead>\n",
              "  <tbody>\n",
              "    <tr>\n",
              "      <th>0</th>\n",
              "      <td>0</td>\n",
              "      <td>Gadri Bandu</td>\n",
              "      <td>Saya kasih bintang tiga dulu soalnga gemenya b...</td>\n",
              "      <td>3</td>\n",
              "    </tr>\n",
              "    <tr>\n",
              "      <th>1</th>\n",
              "      <td>1</td>\n",
              "      <td>070_Putri Azzahra Nurdin</td>\n",
              "      <td>Bagus bgtt. Dari segi story, grafik sampe puzz...</td>\n",
              "      <td>5</td>\n",
              "    </tr>\n",
              "    <tr>\n",
              "      <th>2</th>\n",
              "      <td>2</td>\n",
              "      <td>Novrealita Setiyana</td>\n",
              "      <td>Sejauh ini aku main aku suka banget sama model...</td>\n",
              "      <td>5</td>\n",
              "    </tr>\n",
              "    <tr>\n",
              "      <th>3</th>\n",
              "      <td>3</td>\n",
              "      <td>auah gelap</td>\n",
              "      <td>Semuanya sudah sempurna tapi Sangat disayangka...</td>\n",
              "      <td>3</td>\n",
              "    </tr>\n",
              "    <tr>\n",
              "      <th>4</th>\n",
              "      <td>4</td>\n",
              "      <td>Adi Nugroho</td>\n",
              "      <td>Grafik bagus,story bagus,terutama archon quest...</td>\n",
              "      <td>5</td>\n",
              "    </tr>\n",
              "    <tr>\n",
              "      <th>...</th>\n",
              "      <td>...</td>\n",
              "      <td>...</td>\n",
              "      <td>...</td>\n",
              "      <td>...</td>\n",
              "    </tr>\n",
              "    <tr>\n",
              "      <th>995</th>\n",
              "      <td>995</td>\n",
              "      <td>TEGUH TEAM</td>\n",
              "      <td>Masih bingung sih dengan cara game ini ngerend...</td>\n",
              "      <td>5</td>\n",
              "    </tr>\n",
              "    <tr>\n",
              "      <th>996</th>\n",
              "      <td>996</td>\n",
              "      <td>Zen Flow</td>\n",
              "      <td>game nya seru dari segi story. saran buat Hoyo...</td>\n",
              "      <td>5</td>\n",
              "    </tr>\n",
              "    <tr>\n",
              "      <th>997</th>\n",
              "      <td>997</td>\n",
              "      <td>Edward Gosal</td>\n",
              "      <td>Game ini sangat bagus dengan map yg sangat lua...</td>\n",
              "      <td>5</td>\n",
              "    </tr>\n",
              "    <tr>\n",
              "      <th>998</th>\n",
              "      <td>998</td>\n",
              "      <td>Zaaa Qirr</td>\n",
              "      <td>Sangat seru dan asik untuk dimainkan grafik hd...</td>\n",
              "      <td>5</td>\n",
              "    </tr>\n",
              "    <tr>\n",
              "      <th>999</th>\n",
              "      <td>999</td>\n",
              "      <td>Andik Naufal Gaming from Nabila</td>\n",
              "      <td>Memuat game terlalu lama . Mau masuk game aja ...</td>\n",
              "      <td>2</td>\n",
              "    </tr>\n",
              "  </tbody>\n",
              "</table>\n",
              "<p>1000 rows × 4 columns</p>\n",
              "</div>"
            ],
            "text/plain": [
              "     Unnamed: 0                         userName  \\\n",
              "0             0                      Gadri Bandu   \n",
              "1             1         070_Putri Azzahra Nurdin   \n",
              "2             2              Novrealita Setiyana   \n",
              "3             3                       auah gelap   \n",
              "4             4                      Adi Nugroho   \n",
              "..          ...                              ...   \n",
              "995         995                       TEGUH TEAM   \n",
              "996         996                         Zen Flow   \n",
              "997         997                     Edward Gosal   \n",
              "998         998                        Zaaa Qirr   \n",
              "999         999  Andik Naufal Gaming from Nabila   \n",
              "\n",
              "                                               content  score  \n",
              "0    Saya kasih bintang tiga dulu soalnga gemenya b...      3  \n",
              "1    Bagus bgtt. Dari segi story, grafik sampe puzz...      5  \n",
              "2    Sejauh ini aku main aku suka banget sama model...      5  \n",
              "3    Semuanya sudah sempurna tapi Sangat disayangka...      3  \n",
              "4    Grafik bagus,story bagus,terutama archon quest...      5  \n",
              "..                                                 ...    ...  \n",
              "995  Masih bingung sih dengan cara game ini ngerend...      5  \n",
              "996  game nya seru dari segi story. saran buat Hoyo...      5  \n",
              "997  Game ini sangat bagus dengan map yg sangat lua...      5  \n",
              "998  Sangat seru dan asik untuk dimainkan grafik hd...      5  \n",
              "999  Memuat game terlalu lama . Mau masuk game aja ...      2  \n",
              "\n",
              "[1000 rows x 4 columns]"
            ]
          },
          "execution_count": 18,
          "metadata": {},
          "output_type": "execute_result"
        }
      ],
      "source": [
        "data = pd.read_csv('data.csv')\n",
        "data"
      ]
    },
    {
      "cell_type": "code",
      "execution_count": 19,
      "id": "0735d487",
      "metadata": {
        "colab": {
          "base_uri": "https://localhost:8080/"
        },
        "id": "0735d487",
        "outputId": "28ebab4d-0446-4cc4-861f-c9eae38088b5"
      },
      "outputs": [
        {
          "name": "stdout",
          "output_type": "stream",
          "text": [
            "     Unnamed: 0                         userName  \\\n",
            "0             0                      Gadri Bandu   \n",
            "1             1         070_Putri Azzahra Nurdin   \n",
            "2             2              Novrealita Setiyana   \n",
            "3             3                       auah gelap   \n",
            "4             4                      Adi Nugroho   \n",
            "..          ...                              ...   \n",
            "995         995                       TEGUH TEAM   \n",
            "996         996                         Zen Flow   \n",
            "997         997                     Edward Gosal   \n",
            "998         998                        Zaaa Qirr   \n",
            "999         999  Andik Naufal Gaming from Nabila   \n",
            "\n",
            "                                               content  score  \n",
            "0    Saya kasih bintang tiga dulu soalnga gemenya b...      3  \n",
            "1    Bagus bgtt Dari segi story grafik sampe puzzle...      5  \n",
            "2    Sejauh ini aku main aku suka banget sama model...      5  \n",
            "3    Semuanya sudah sempurna tapi Sangat disayangka...      3  \n",
            "4    Grafik bagusstory bagusterutama archon questpa...      5  \n",
            "..                                                 ...    ...  \n",
            "995  Masih bingung sih dengan cara game ini ngerend...      5  \n",
            "996  game nya seru dari segi story saran buat Hoyov...      5  \n",
            "997  Game ini sangat bagus dengan map yg sangat lua...      5  \n",
            "998  Sangat seru dan asik untuk dimainkan grafik hd...      5  \n",
            "999  Memuat game terlalu lama  Mau masuk game aja l...      2  \n",
            "\n",
            "[1000 rows x 4 columns]\n"
          ]
        }
      ],
      "source": [
        "def remove_punctuation_and_numbers(text):\n",
        "    cleaned_text = re.sub(r'[^a-zA-Z\\s]', '', text)\n",
        "    return cleaned_text\n",
        "\n",
        "# Menggunakan fungsi pada setiap baris dalam DataFrame\n",
        "data['content'] = data['content'].apply(remove_punctuation_and_numbers)\n",
        "\n",
        "print(data)"
      ]
    },
    {
      "cell_type": "code",
      "execution_count": 20,
      "id": "cbuHWjMktlpy",
      "metadata": {
        "colab": {
          "base_uri": "https://localhost:8080/"
        },
        "id": "cbuHWjMktlpy",
        "outputId": "4a666492-5026-41ce-c04c-ee581a7f33b2"
      },
      "outputs": [
        {
          "data": {
            "text/plain": [
              "0      saya kasih bintang tiga dulu soalnga gemenya b...\n",
              "1      bagus bgtt dari segi story grafik sampe puzzle...\n",
              "2      sejauh ini aku main aku suka banget sama model...\n",
              "3      semuanya sudah sempurna tapi sangat disayangka...\n",
              "4      grafik bagusstory bagusterutama archon questpa...\n",
              "                             ...                        \n",
              "995    masih bingung sih dengan cara game ini ngerend...\n",
              "996    game nya seru dari segi story saran buat hoyov...\n",
              "997    game ini sangat bagus dengan map yg sangat lua...\n",
              "998    sangat seru dan asik untuk dimainkan grafik hd...\n",
              "999    memuat game terlalu lama  mau masuk game aja l...\n",
              "Name: content, Length: 1000, dtype: object"
            ]
          },
          "execution_count": 20,
          "metadata": {},
          "output_type": "execute_result"
        }
      ],
      "source": [
        "text = data['content'].str.lower()\n",
        "text"
      ]
    },
    {
      "cell_type": "code",
      "execution_count": 21,
      "id": "G4pLE901whEx",
      "metadata": {
        "id": "G4pLE901whEx"
      },
      "outputs": [],
      "source": [
        "from sklearn.feature_extraction.text import CountVectorizer, TfidfTransformer, TfidfVectorizer"
      ]
    },
    {
      "cell_type": "code",
      "execution_count": 22,
      "id": "_QBRf5aQwYQZ",
      "metadata": {
        "colab": {
          "base_uri": "https://localhost:8080/"
        },
        "id": "_QBRf5aQwYQZ",
        "outputId": "82388dac-5c05-4e67-f9d2-62ecdff34c0c"
      },
      "outputs": [
        {
          "name": "stdout",
          "output_type": "stream",
          "text": [
            "  (0, 185)\t0.17702331211793368\n",
            "  (0, 151)\t0.24543015644222044\n",
            "  (0, 56)\t0.09832623681651849\n",
            "  (0, 92)\t0.11054053145552846\n",
            "  (0, 141)\t0.20868431155380585\n",
            "  (0, 97)\t0.2284498831476714\n",
            "  (0, 200)\t0.21325778813617052\n",
            "  (0, 107)\t0.16543171436045626\n",
            "  (0, 34)\t0.21820212251608673\n",
            "  (0, 178)\t0.20760179333707549\n",
            "  (0, 48)\t0.09794394720355809\n",
            "  (0, 21)\t0.1441140531028639\n",
            "  (0, 240)\t0.2946574141351768\n",
            "  (0, 162)\t0.09644259335770418\n",
            "  (0, 70)\t0.16592381577043194\n",
            "  (0, 26)\t0.22239374846080254\n",
            "  (0, 235)\t0.34608853323896577\n",
            "  (0, 248)\t0.14799647899991092\n",
            "  (0, 145)\t0.16834292857710215\n",
            "  (0, 117)\t0.24771576454951238\n",
            "  (0, 230)\t0.11371857242724197\n",
            "  (0, 17)\t0.09218490291200518\n",
            "  (0, 62)\t0.2157067136367257\n",
            "  (0, 33)\t0.1936195827607227\n",
            "  (0, 109)\t0.17142891756112183\n",
            "  :\t:\n",
            "  (997, 118)\t0.2357101616854735\n",
            "  (997, 53)\t0.18933541553732924\n",
            "  (997, 198)\t0.4840497987260937\n",
            "  (997, 149)\t0.2300086788843132\n",
            "  (997, 257)\t0.1610136619865452\n",
            "  (997, 133)\t0.2685479210448062\n",
            "  (997, 92)\t0.12615147244318928\n",
            "  (997, 48)\t0.44710380867302746\n",
            "  (997, 70)\t0.09467809407653074\n",
            "  (997, 17)\t0.21040718886104623\n",
            "  (998, 214)\t0.5116392765925865\n",
            "  (998, 198)\t0.4232684361519973\n",
            "  (998, 246)\t0.3718539963877647\n",
            "  (998, 98)\t0.4018314617181987\n",
            "  (998, 78)\t0.4163489513933841\n",
            "  (998, 48)\t0.29322127143635224\n",
            "  (999, 128)\t0.5102085798995855\n",
            "  (999, 59)\t0.37002748166974997\n",
            "  (999, 4)\t0.24224344391620353\n",
            "  (999, 125)\t0.21228348561831048\n",
            "  (999, 143)\t0.345336481661831\n",
            "  (999, 44)\t0.2871933096612246\n",
            "  (999, 70)\t0.39136586778400506\n",
            "  (999, 235)\t0.27210728914399834\n",
            "  (999, 145)\t0.26471456602723176\n"
          ]
        }
      ],
      "source": [
        "tfidf = TfidfVectorizer(min_df=20)\n",
        "tfidf_matrix = tfidf.fit_transform(text)\n",
        "print(tfidf_matrix)"
      ]
    },
    {
      "cell_type": "markdown",
      "metadata": {},
      "source": [
        "Hasil TFIDF dibawah ini tidak relevan karena banyak stopword yang muncul dan tidak menandakan bahwa kata-kata tersebut merupakan hal yang penting. Hal tersebut dapat terjadi karena kita tidak melakukan pembersihan stopword, stopword cenderung sering muncul karena pada dasarnya stopword adalah kata hubung. Jadi jika kita ingin mendapatkan list kata yang paling bermakna kita tidak disarankan menggunakan TFIDF, TFIDF dapat mengubah suatu kata atau token menjadi vektor berdasarkan frekuensi kata tersebut muncul dalam beberapa dokumen atau kalimat, dan seharusnya teknik word embedding lah yang dipakai untuk mencari kata yang penting atau bermakna."
      ]
    },
    {
      "cell_type": "code",
      "execution_count": 16,
      "id": "_7DBLsE4wyR5",
      "metadata": {
        "colab": {
          "base_uri": "https://localhost:8080/"
        },
        "id": "_7DBLsE4wyR5",
        "outputId": "90d92600-ce85-41f1-a4c2-27194eb6a201"
      },
      "outputs": [
        {
          "data": {
            "text/plain": [
              "array(['ada', 'adalah', 'agak', 'agar', 'aja', 'akan', 'aku', 'akun',\n",
              "       'alur', 'android', 'apa', 'apalagi', 'ar', 'artefak', 'atau',\n",
              "       'awal', 'bagi', 'bagus', 'bahkan', 'baik', 'banget', 'banyak',\n",
              "       'baru', 'beberapa', 'belum', 'bener', 'berat', 'bermain', 'besar',\n",
              "       'bgt', 'biar', 'biasa', 'bikin', 'bintang', 'bisa', 'bosen',\n",
              "       'buat', 'bug', 'bukan', 'cerita', 'ceritanya', 'character', 'coba',\n",
              "       'cukup', 'cuma', 'cuman', 'dah', 'dalam', 'dan', 'dapat', 'dapet',\n",
              "       'dari', 'data', 'dengan', 'developer', 'device', 'di',\n",
              "       'diperbaiki', 'dll', 'doang', 'dong', 'download', 'dulu', 'dunia',\n",
              "       'event', 'fitur', 'fp', 'ga', 'gacha', 'gak', 'game', 'gamenya',\n",
              "       'gameplay', 'gb', 'gede', 'genshin', 'gitu', 'gk', 'grafik',\n",
              "       'grafiknya', 'gua', 'gw', 'hadiah', 'hal', 'hampir', 'hanya',\n",
              "       'hari', 'harus', 'hoyoverse', 'hp', 'impact', 'ingin', 'ini',\n",
              "       'itu', 'jadi', 'jangan', 'jaringan', 'jika', 'juga', 'kadang',\n",
              "       'kalau', 'kali', 'kalian', 'kalo', 'kan', 'karakter',\n",
              "       'karakternya', 'karena', 'karna', 'kasih', 'kayak', 'ke', 'kecil',\n",
              "       'kedepannya', 'keluar', 'kenapa', 'keren', 'ketika', 'kita', 'klo',\n",
              "       'kok', 'ku', 'kuat', 'kurang', 'lag', 'lagi', 'lah', 'lain',\n",
              "       'lama', 'lancar', 'lebih', 'loading', 'login', 'luas', 'lumayan',\n",
              "       'main', 'makin', 'malah', 'mantap', 'map', 'masa', 'masalah',\n",
              "       'masih', 'masuk', 'mata', 'mau', 'memang', 'membuat', 'memori',\n",
              "       'menarik', 'mendapatkan', 'menjadi', 'menurut', 'mihoyo', 'misi',\n",
              "       'mobile', 'mohon', 'mudah', 'mungkin', 'namun', 'ni', 'nunggu',\n",
              "       'nya', 'oke', 'open', 'orang', 'overall', 'pada', 'padahal',\n",
              "       'pake', 'paling', 'para', 'pas', 'pasti', 'pc', 'pemain', 'pengen',\n",
              "       'penuh', 'penyimpanan', 'perbaiki', 'perlu', 'pernah', 'pihak',\n",
              "       'ping', 'play', 'player', 'pokoknya', 'primo', 'pun', 'punya',\n",
              "       'quest', 'ram', 'resin', 'saat', 'saja', 'sama', 'sampai', 'sampe',\n",
              "       'sangat', 'saran', 'satu', 'saya', 'sayang', 'sedikit', 'segi',\n",
              "       'sekali', 'sekarang', 'selalu', 'semakin', 'semoga', 'semua',\n",
              "       'sendiri', 'seperti', 'sering', 'seru', 'setelah', 'setiap', 'sih',\n",
              "       'sinyal', 'sistem', 'skip', 'soalnya', 'story', 'sudah', 'suka',\n",
              "       'sulit', 'supaya', 'susah', 'tahun', 'tambahkan', 'tapi', 'tau',\n",
              "       'terbaik', 'terima', 'terimakasih', 'terlalu', 'terus', 'tetap',\n",
              "       'tetapi', 'tiba', 'tidak', 'tolong', 'tpi', 'udah', 'udh',\n",
              "       'ukuran', 'untuk', 'up', 'update', 'versi', 'waktu', 'walaupun',\n",
              "       'wifi', 'world', 'ya', 'yaitu', 'yang', 'yg'], dtype=object)"
            ]
          },
          "execution_count": 16,
          "metadata": {},
          "output_type": "execute_result"
        }
      ],
      "source": [
        "tfidf.get_feature_names_out()"
      ]
    }
  ],
  "metadata": {
    "colab": {
      "provenance": []
    },
    "kernelspec": {
      "display_name": "Python 3 (ipykernel)",
      "language": "python",
      "name": "python3"
    },
    "language_info": {
      "codemirror_mode": {
        "name": "ipython",
        "version": 3
      },
      "file_extension": ".py",
      "mimetype": "text/x-python",
      "name": "python",
      "nbconvert_exporter": "python",
      "pygments_lexer": "ipython3",
      "version": "3.11.5"
    }
  },
  "nbformat": 4,
  "nbformat_minor": 5
}

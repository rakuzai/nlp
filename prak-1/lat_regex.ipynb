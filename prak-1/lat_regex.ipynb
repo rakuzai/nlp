{
 "cells": [
  {
   "cell_type": "code",
   "execution_count": 15,
   "id": "2857b1a4",
   "metadata": {},
   "outputs": [
    {
     "name": "stdout",
     "output_type": "stream",
     "text": [
      "10 data dummy dengan nomor telepon kustom telah disimpan dalam dummy_data.txt.\n"
     ]
    }
   ],
   "source": [
    "from faker import Faker\n",
    "\n",
    "fake = Faker()\n",
    "\n",
    "def generate_custom_phone_number():\n",
    "    return fake.numerify('+1-###-###-####')\n",
    "\n",
    "jumlah_data = 10\n",
    "\n",
    "dummy_data = []\n",
    "\n",
    "for _ in range(jumlah_data):\n",
    "    nama = fake.name()\n",
    "    nomor_telepon = generate_custom_phone_number()\n",
    "    alamat = fake.address()\n",
    "    email = fake.email()\n",
    "    \n",
    "    data = f\"Nama: {nama}\\nNomor Telepon: {nomor_telepon}\\nAlamat: {alamat}\\nEmail: {email}\\n\"\n",
    "    dummy_data.append(data)\n",
    "\n",
    "file_name = \"dummy_data.txt\"\n",
    "with open(file_name, \"w\") as file:\n",
    "    for data in dummy_data:\n",
    "        file.write(data + \"\\n\")\n",
    "\n",
    "print(f\"{jumlah_data} data dummy dengan nomor telepon kustom telah disimpan dalam {file_name}.\")"
   ]
  },
  {
   "cell_type": "code",
   "execution_count": 16,
   "id": "1e51c80f",
   "metadata": {},
   "outputs": [],
   "source": [
    "with open(file_name, \"r\") as file:\n",
    "    text = file.read()"
   ]
  },
  {
   "cell_type": "code",
   "execution_count": 17,
   "id": "bbc74dbd",
   "metadata": {},
   "outputs": [
    {
     "name": "stdout",
     "output_type": "stream",
     "text": [
      "['lewistimothy@example.org', 'hubbardmelissa@example.net', 'daniel50@example.net', 'iwagner@example.net', 'jordanvalerie@example.org', 'thomas65@example.com', 'carlossimpson@example.net', 'hwaters@example.net', 'kmalone@example.org', 'fernandezcarl@example.org']\n"
     ]
    }
   ],
   "source": [
    "import re\n",
    "\n",
    "email_pattern = r'\\b[A-Za-z0-9._%+-]+@[A-Za-z0-9.-]+\\.[A-Z|a-z]{2,7}\\b'\n",
    "\n",
    "email_addresses = re.findall(email_pattern, text)\n",
    "print(email_addresses)"
   ]
  },
  {
   "cell_type": "code",
   "execution_count": 18,
   "id": "39917c2c",
   "metadata": {},
   "outputs": [
    {
     "name": "stdout",
     "output_type": "stream",
     "text": [
      "['+1-142-170-1568', '+1-637-910-6335', '+1-032-664-4871', '+1-755-254-5317', '+1-719-500-6393', '+1-027-475-9906', '+1-036-673-3712', '+1-521-062-4778', '+1-847-918-1683', '+1-643-088-2363']\n"
     ]
    }
   ],
   "source": [
    "phone_pattern = r'\\+\\d{1}-\\d{3}-\\d{3}-\\d{4}'\n",
    "\n",
    "phone_numbers = re.findall(phone_pattern, text)\n",
    "print(phone_numbers)"
   ]
  },
  {
   "cell_type": "code",
   "execution_count": 19,
   "id": "a1513ae0",
   "metadata": {},
   "outputs": [
    {
     "name": "stdout",
     "output_type": "stream",
     "text": [
      "                        Email    Nomor Telepon\n",
      "0    lewistimothy@example.org  +1-142-170-1568\n",
      "1  hubbardmelissa@example.net  +1-637-910-6335\n",
      "2        daniel50@example.net  +1-032-664-4871\n",
      "3         iwagner@example.net  +1-755-254-5317\n",
      "4   jordanvalerie@example.org  +1-719-500-6393\n",
      "5        thomas65@example.com  +1-027-475-9906\n",
      "6   carlossimpson@example.net  +1-036-673-3712\n",
      "7         hwaters@example.net  +1-521-062-4778\n",
      "8         kmalone@example.org  +1-847-918-1683\n",
      "9   fernandezcarl@example.org  +1-643-088-2363\n"
     ]
    }
   ],
   "source": [
    "import pandas as pd\n",
    "\n",
    "data = {'Email': email_addresses, 'Nomor Telepon': phone_numbers}\n",
    "df = pd.DataFrame(data)\n",
    "\n",
    "print(df)"
   ]
  },
  {
   "cell_type": "code",
   "execution_count": null,
   "id": "5fdb7686",
   "metadata": {},
   "outputs": [],
   "source": []
  }
 ],
 "metadata": {
  "kernelspec": {
   "display_name": "Python 3 (ipykernel)",
   "language": "python",
   "name": "python3"
  },
  "language_info": {
   "codemirror_mode": {
    "name": "ipython",
    "version": 3
   },
   "file_extension": ".py",
   "mimetype": "text/x-python",
   "name": "python",
   "nbconvert_exporter": "python",
   "pygments_lexer": "ipython3",
   "version": "3.10.10"
  }
 },
 "nbformat": 4,
 "nbformat_minor": 5
}
